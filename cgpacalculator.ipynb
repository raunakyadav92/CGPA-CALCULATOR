{
  "nbformat": 4,
  "nbformat_minor": 0,
  "metadata": {
    "colab": {
      "provenance": [],
      "authorship_tag": "ABX9TyPKC5ds+ZOzWVySYuFYlzfU",
      "include_colab_link": true
    },
    "kernelspec": {
      "name": "python3",
      "display_name": "Python 3"
    },
    "language_info": {
      "name": "python"
    }
  },
  "cells": [
    {
      "cell_type": "markdown",
      "metadata": {
        "id": "view-in-github",
        "colab_type": "text"
      },
      "source": [
        "<a href=\"https://colab.research.google.com/github/raunakyadav92/CGPA-CALCULATOR/blob/main/cgpacalculator.ipynb\" target=\"_parent\"><img src=\"https://colab.research.google.com/assets/colab-badge.svg\" alt=\"Open In Colab\"/></a>"
      ]
    },
    {
      "cell_type": "code",
      "execution_count": null,
      "metadata": {
        "id": "P4f2CvV2TpEf"
      },
      "outputs": [],
      "source": [
        "def calculate_cgpa(grades, credits):\n",
        "    total_points = 0\n",
        "    total_credits = 0\n",
        "    for grade, credit in zip(grades, credits):\n",
        "        total_points += grade * credit\n",
        "        total_credits += credit\n",
        "    cgpa = total_points / total_credits\n",
        "    return round(cgpa, 2)\n",
        "\n",
        "grades = []\n",
        "credits = []\n",
        "\n",
        "print(\"\\n🎓 Welcome to CGPA Calculator 🎓\\n\")\n",
        "\n",
        "n = int(input(\"Enter number of subjects: \"))\n",
        "\n",
        "for i in range(n):\n",
        "    grade = float(input(f\"Enter grade points for subject {i+1}: \"))\n",
        "    credit = float(input(f\"Enter credit hours for subject {i+1}: \"))\n",
        "    grades.append(grade)\n",
        "    credits.append(credit)\n",
        "\n",
        "cgpa = calculate_cgpa(grades, credits)\n",
        "print(f\"\\n✅ Your CGPA is: {cgpa}\")\n"
      ]
    }
  ]
}